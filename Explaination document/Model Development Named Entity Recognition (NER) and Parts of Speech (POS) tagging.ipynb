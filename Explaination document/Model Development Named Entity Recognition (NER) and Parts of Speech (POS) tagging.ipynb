{
 "cells": [
  {
   "cell_type": "markdown",
   "id": "9a667b75-dc3b-4234-aa56-5ecfae992c16",
   "metadata": {},
   "source": [
    "# Import All Dependencies"
   ]
  },
  {
   "cell_type": "code",
   "execution_count": 1,
   "id": "fe0062e9-e4a2-42eb-b96d-9c60f527650e",
   "metadata": {},
   "outputs": [],
   "source": [
    "import pandas as pd\n",
    "import pandas as pd\n",
    "from tensorflow.keras.preprocessing.text import Tokenizer\n",
    "from tensorflow.keras.preprocessing.sequence import pad_sequences\n",
    "import tensorflow as tf\n",
    "from tensorflow.keras.models import Model\n",
    "from tensorflow.keras.layers import Input, Embedding, LSTM, Dense, TimeDistributed, Dropout, Bidirectional\n",
    "from sklearn.model_selection import train_test_split\n",
    "from sklearn.metrics import classification_report\n",
    "import matplotlib.pyplot as plt\n",
    "import pickle"
   ]
  },
  {
   "cell_type": "markdown",
   "id": "a6b44984-38e3-4790-9bf0-4239ddabe1fb",
   "metadata": {},
   "source": [
    "# Load Dataset"
   ]
  },
  {
   "cell_type": "code",
   "execution_count": 2,
   "id": "fe944470-cf80-4fe6-87ed-2f5ad60cfc3d",
   "metadata": {},
   "outputs": [
    {
     "data": {
      "text/html": [
       "<div>\n",
       "<style scoped>\n",
       "    .dataframe tbody tr th:only-of-type {\n",
       "        vertical-align: middle;\n",
       "    }\n",
       "\n",
       "    .dataframe tbody tr th {\n",
       "        vertical-align: top;\n",
       "    }\n",
       "\n",
       "    .dataframe thead th {\n",
       "        text-align: right;\n",
       "    }\n",
       "</style>\n",
       "<table border=\"1\" class=\"dataframe\">\n",
       "  <thead>\n",
       "    <tr style=\"text-align: right;\">\n",
       "      <th></th>\n",
       "      <th>word</th>\n",
       "      <th>pos</th>\n",
       "      <th>ner</th>\n",
       "    </tr>\n",
       "  </thead>\n",
       "  <tbody>\n",
       "    <tr>\n",
       "      <th>0</th>\n",
       "      <td>শনিবার</td>\n",
       "      <td>NNP</td>\n",
       "      <td>B-D&amp;T</td>\n",
       "    </tr>\n",
       "    <tr>\n",
       "      <th>1</th>\n",
       "      <td>(২৭</td>\n",
       "      <td>PUNCT</td>\n",
       "      <td>B-OTH</td>\n",
       "    </tr>\n",
       "    <tr>\n",
       "      <th>2</th>\n",
       "      <td>আগস্ট)</td>\n",
       "      <td>NNP</td>\n",
       "      <td>B-D&amp;T</td>\n",
       "    </tr>\n",
       "    <tr>\n",
       "      <th>3</th>\n",
       "      <td>রাতে</td>\n",
       "      <td>NNC</td>\n",
       "      <td>B-D&amp;T</td>\n",
       "    </tr>\n",
       "    <tr>\n",
       "      <th>4</th>\n",
       "      <td>পটুয়াখালী</td>\n",
       "      <td>NNP</td>\n",
       "      <td>B-GPE</td>\n",
       "    </tr>\n",
       "    <tr>\n",
       "      <th>5</th>\n",
       "      <td>সদর</td>\n",
       "      <td>NNC</td>\n",
       "      <td>I-GPE</td>\n",
       "    </tr>\n",
       "    <tr>\n",
       "      <th>6</th>\n",
       "      <td>থানার</td>\n",
       "      <td>NNC</td>\n",
       "      <td>I-GPE</td>\n",
       "    </tr>\n",
       "    <tr>\n",
       "      <th>7</th>\n",
       "      <td>ভারপ্রাপ্ত</td>\n",
       "      <td>ADJ</td>\n",
       "      <td>B-PER</td>\n",
       "    </tr>\n",
       "    <tr>\n",
       "      <th>8</th>\n",
       "      <td>কর্মকর্তা</td>\n",
       "      <td>NNC</td>\n",
       "      <td>I-PER</td>\n",
       "    </tr>\n",
       "    <tr>\n",
       "      <th>9</th>\n",
       "      <td>(ওসি)</td>\n",
       "      <td>PUNCT</td>\n",
       "      <td>B-OTH</td>\n",
       "    </tr>\n",
       "  </tbody>\n",
       "</table>\n",
       "</div>"
      ],
      "text/plain": [
       "         word    pos    ner\n",
       "0      শনিবার    NNP  B-D&T\n",
       "1         (২৭  PUNCT  B-OTH\n",
       "2      আগস্ট)    NNP  B-D&T\n",
       "3        রাতে    NNC  B-D&T\n",
       "4  পটুয়াখালী    NNP  B-GPE\n",
       "5         সদর    NNC  I-GPE\n",
       "6       থানার    NNC  I-GPE\n",
       "7  ভারপ্রাপ্ত    ADJ  B-PER\n",
       "8   কর্মকর্তা    NNC  I-PER\n",
       "9       (ওসি)  PUNCT  B-OTH"
      ]
     },
     "execution_count": 2,
     "metadata": {},
     "output_type": "execute_result"
    }
   ],
   "source": [
    "data = pd.read_csv('data.tsv', sep='\\t') # Read the data from a TSV (Tab-Separated Values) file into a DataFrame\n",
    "data = data.reset_index() # Reset the index turning the index into a column beacause when load the the dataset it's have one column and two index\n",
    "data = data.rename(columns={'level_0': 'word', 'level_1': 'pos', 'শনিবার (২৭ আগস্ট) রাতে পটুয়াখালী সদর থানার ভারপ্রাপ্ত কর্মকর্তা (ওসি) মো. মনিরুজ্জামান এ তথ্য নিশ্চিত করেছেন।':'ner'}) # Rename the columns after reindexing\n",
    "data.head(10) # # Display the first 10 rows"
   ]
  },
  {
   "cell_type": "markdown",
   "id": "c38231df-e51c-4eb7-aff3-e1876dd48b00",
   "metadata": {},
   "source": [
    "# Data Visualization"
   ]
  },
  {
   "cell_type": "code",
   "execution_count": 3,
   "id": "2bf08fe2-208f-421e-a4bc-8894af164b20",
   "metadata": {},
   "outputs": [
    {
     "name": "stdout",
     "output_type": "stream",
     "text": [
      "<class 'pandas.core.frame.DataFrame'>\n",
      "RangeIndex: 49383 entries, 0 to 49382\n",
      "Data columns (total 3 columns):\n",
      " #   Column  Non-Null Count  Dtype \n",
      "---  ------  --------------  ----- \n",
      " 0   word    49383 non-null  object\n",
      " 1   pos     45326 non-null  object\n",
      " 2   ner     45324 non-null  object\n",
      "dtypes: object(3)\n",
      "memory usage: 1.1+ MB\n"
     ]
    }
   ],
   "source": [
    "data.info() # Check column names, data type, index range, have null value or not and memory uses"
   ]
  },
  {
   "cell_type": "code",
   "execution_count": 4,
   "id": "10b7e884-400d-4b74-b02b-d985a6f75475",
   "metadata": {},
   "outputs": [
    {
     "data": {
      "text/plain": [
       "word       0\n",
       "pos     4057\n",
       "ner     4059\n",
       "dtype: int64"
      ]
     },
     "execution_count": 4,
     "metadata": {},
     "output_type": "execute_result"
    }
   ],
   "source": [
    "data.isna().sum() # count null value"
   ]
  },
  {
   "cell_type": "markdown",
   "id": "df1f8010-efc2-4f69-8414-067cd64a7053",
   "metadata": {},
   "source": [
    "## Remove null value and clean data"
   ]
  },
  {
   "cell_type": "code",
   "execution_count": 5,
   "id": "4a8afdd6-13db-41c0-afd9-1198d91a6296",
   "metadata": {},
   "outputs": [],
   "source": [
    "data.dropna(inplace=True) # Handle missing values\n",
    "data['word'] = data['word'].str.strip() # Normalize text \n",
    "data['word'] = data['word'].str.replace(r'[^\\w\\s]', '', regex=True)# Remove unnecessary symbols"
   ]
  },
  {
   "cell_type": "markdown",
   "id": "ee4bb27c-33c3-4de6-ab57-be3862370f3f",
   "metadata": {},
   "source": [
    "### Counter plot both NER and POS data"
   ]
  },
  {
   "cell_type": "code",
   "execution_count": 6,
   "id": "71e7c2f8-7146-4768-81cc-26fe0ede069e",
   "metadata": {},
   "outputs": [
    {
     "data": {
      "image/png": "[encoded data removed]",
      "text/plain": [
       "<Figure size 1200x600 with 2 Axes>"
      ]
     },
     "metadata": {},
     "output_type": "display_data"
    }
   ],
   "source": [
    "pos_label_counts = data['pos'].value_counts() # Count unique value in the 'pos' column\n",
    "ner_label_counts = data['ner'].value_counts() # Count unique value in the 'ner' column\n",
    "plt.figure(figsize=(12, 6))\n",
    "plt.subplot(1, 2, 1)\n",
    "pos_label_counts.plot(kind='bar')\n",
    "plt.title('POS Label Distribution')\n",
    "plt.subplot(1, 2, 2)\n",
    "ner_label_counts.plot(kind='bar')\n",
    "plt.title('NER Label Distribution')\n",
    "plt.show()"
   ]
  },
  {
   "cell_type": "markdown",
   "id": "58965b52-d0b0-415b-9602-3d2820bdbd52",
   "metadata": {},
   "source": [
    "# Tokenize and pad sequences"
   ]
  },
  {
   "cell_type": "code",
   "execution_count": 7,
   "id": "f3f79cd5-a5cb-4fe8-bb20-228b42339314",
   "metadata": {},
   "outputs": [
    {
     "data": {
      "text/plain": [
       "<keras.src.legacy.preprocessing.text.Tokenizer at 0x2aafc8fd110>"
      ]
     },
     "execution_count": 7,
     "metadata": {},
     "output_type": "execute_result"
    }
   ],
   "source": [
    "# Tokenization for words\n",
    "tokenizer = Tokenizer() # Initialize the Tokenizer\n",
    "tokenizer.fit_on_texts(data['word'].values) # Fit the tokenizer on the text data in the 'word' column of the DataFrame\n",
    "tokenizer"
   ]
  },
  {
   "cell_type": "code",
   "execution_count": 8,
   "id": "d8d84f40-5b3d-4b41-961d-35851ad8d7fd",
   "metadata": {},
   "outputs": [],
   "source": [
    "with open('tokenizer.pkl', 'wb') as f:\n",
    "    pickle.dump(tokenizer, f) # # Save the tokenizer object to the file for using inference time or model deploment time"
   ]
  },
  {
   "cell_type": "code",
   "execution_count": 9,
   "id": "714e4e92-a502-47e7-86e6-a01762defc5d",
   "metadata": {},
   "outputs": [],
   "source": [
    "word_index = tokenizer.word_index # dictionary mapping words to their integer index\n",
    "sequences = tokenizer.texts_to_sequences(data['word'].values) # Convert the text in the 'word' column to sequences of integers"
   ]
  },
  {
   "cell_type": "markdown",
   "id": "6dab6fee-8f99-442d-93a5-7c2c83f71927",
   "metadata": {},
   "source": [
    "### Padding sequences"
   ]
  },
  {
   "cell_type": "code",
   "execution_count": 11,
   "id": "7e3ff10e-8cc1-4542-8ef8-2d21b9a57751",
   "metadata": {},
   "outputs": [
    {
     "data": {
      "text/plain": [
       "(31,\n",
       " array([[  232,     0,     0, ...,     0,     0,     0],\n",
       "        [  815,     0,     0, ...,     0,     0,     0],\n",
       "        [  312,     0,     0, ...,     0,     0,     0],\n",
       "        ...,\n",
       "        [  405,     0,     0, ...,     0,     0,     0],\n",
       "        [11238,     0,     0, ...,     0,     0,     0],\n",
       "        [    7,     0,     0, ...,     0,     0,     0]]))"
      ]
     },
     "execution_count": 11,
     "metadata": {},
     "output_type": "execute_result"
    }
   ],
   "source": [
    "max_len = max([len(seq) for seq in sequences]) # Find the maximum length of the sequences\n",
    "padded_sequences = pad_sequences(sequences, maxlen=max_len, padding='post') # Pad the sequences so that they all have the same length\n",
    "max_len,padded_sequences"
   ]
  },
  {
   "cell_type": "code",
   "execution_count": 13,
   "id": "e5650a3d-78d0-4c82-bf42-5bee56c12047",
   "metadata": {},
   "outputs": [
    {
     "data": {
      "text/plain": [
       "(['NNP',\n",
       "  'PUNCT',\n",
       "  'NNC',\n",
       "  'ADJ',\n",
       "  'DET',\n",
       "  'VF',\n",
       "  'CONJ',\n",
       "  'PRO',\n",
       "  'VNF',\n",
       "  'PP',\n",
       "  'QF',\n",
       "  'ADV',\n",
       "  'PART',\n",
       "  'OTH',\n",
       "  'INTJ'],\n",
       " ['B-D&T',\n",
       "  'B-OTH',\n",
       "  'B-GPE',\n",
       "  'I-GPE',\n",
       "  'B-PER',\n",
       "  'I-PER',\n",
       "  'B-LOC',\n",
       "  'I-LOC',\n",
       "  'B-ORG',\n",
       "  'B-EVENT',\n",
       "  'I-EVENT',\n",
       "  'B-NUM',\n",
       "  'I-ORG',\n",
       "  'I-D&T',\n",
       "  'B-UNIT',\n",
       "  'B-MISC',\n",
       "  'B-T&T',\n",
       "  'I-NUM',\n",
       "  'I-T&T',\n",
       "  'I-MISC',\n",
       "  'I-UNIT'])"
      ]
     },
     "execution_count": 13,
     "metadata": {},
     "output_type": "execute_result"
    }
   ],
   "source": [
    "pos_tags = list(data['pos'].unique()) #list of unique POS tags\n",
    "ner_tags = list(data['ner'].unique()) #list of unique NER tags\n",
    "pos_tags, ner_tags"
   ]
  },
  {
   "cell_type": "code",
   "execution_count": 14,
   "id": "4b06f6e9-68c4-4317-a184-087468f79bd3",
   "metadata": {},
   "outputs": [
    {
     "data": {
      "text/plain": [
       "({'NNP': 0,\n",
       "  'PUNCT': 1,\n",
       "  'NNC': 2,\n",
       "  'ADJ': 3,\n",
       "  'DET': 4,\n",
       "  'VF': 5,\n",
       "  'CONJ': 6,\n",
       "  'PRO': 7,\n",
       "  'VNF': 8,\n",
       "  'PP': 9,\n",
       "  'QF': 10,\n",
       "  'ADV': 11,\n",
       "  'PART': 12,\n",
       "  'OTH': 13,\n",
       "  'INTJ': 14},\n",
       " {'B-D&T': 0,\n",
       "  'B-OTH': 1,\n",
       "  'B-GPE': 2,\n",
       "  'I-GPE': 3,\n",
       "  'B-PER': 4,\n",
       "  'I-PER': 5,\n",
       "  'B-LOC': 6,\n",
       "  'I-LOC': 7,\n",
       "  'B-ORG': 8,\n",
       "  'B-EVENT': 9,\n",
       "  'I-EVENT': 10,\n",
       "  'B-NUM': 11,\n",
       "  'I-ORG': 12,\n",
       "  'I-D&T': 13,\n",
       "  'B-UNIT': 14,\n",
       "  'B-MISC': 15,\n",
       "  'B-T&T': 16,\n",
       "  'I-NUM': 17,\n",
       "  'I-T&T': 18,\n",
       "  'I-MISC': 19,\n",
       "  'I-UNIT': 20})"
      ]
     },
     "execution_count": 14,
     "metadata": {},
     "output_type": "execute_result"
    }
   ],
   "source": [
    "pos_tag_to_index = {tag: idx for idx, tag in enumerate(pos_tags)} # # Create a dictionary that maps each POS tag this dictionary comprehension creates key-value pairs where the key is the tag and the value is its index\n",
    "ner_tag_to_index = {tag: idx for idx, tag in enumerate(ner_tags)} # Create a dictionary that maps each NER tag \n",
    "pos_tag_to_index, ner_tag_to_index"
   ]
  },
  {
   "cell_type": "code",
   "execution_count": 15,
   "id": "d9f4df54-af4c-49ee-bddf-5fda3084fc59",
   "metadata": {},
   "outputs": [],
   "source": [
    "# Convert POS and NER tags to integer labels\n",
    "data['pos'] = data['pos'].map(pos_tag_to_index)\n",
    "data['ner'] = data['ner'].map(ner_tag_to_index)"
   ]
  },
  {
   "cell_type": "code",
   "execution_count": 16,
   "id": "2122fbcc-7868-4e04-ba55-bc04a234004d",
   "metadata": {},
   "outputs": [],
   "source": [
    "# Convert POS and NER labels into sequences (to match the input sequences)\n",
    "pos_sequences = data['pos'].values.reshape(-1, 1)\n",
    "ner_sequences = data['ner'].values.reshape(-1, 1)"
   ]
  },
  {
   "cell_type": "code",
   "execution_count": 17,
   "id": "9b4df36b-8ef9-4329-84a6-bacae6198002",
   "metadata": {},
   "outputs": [],
   "source": [
    "# Padding the POS and NER sequences to match the input sequences\n",
    "pos_padded = pad_sequences(pos_sequences, maxlen=max_len, padding='post')\n",
    "ner_padded = pad_sequences(ner_sequences, maxlen=max_len, padding='post')"
   ]
  },
  {
   "cell_type": "markdown",
   "id": "204bbd3f-772b-400e-a029-46771e0a8261",
   "metadata": {},
   "source": [
    "### split the dataset into training, validation, and test sets"
   ]
  },
  {
   "cell_type": "code",
   "execution_count": 18,
   "id": "b3a24436-c664-49e4-8bab-8fbe7f61ee35",
   "metadata": {},
   "outputs": [],
   "source": [
    "# Splitting the data, ensuring that all splits have consistent sample sizes\n",
    "X_train, X_temp, y_train_pos, y_temp_pos, y_train_ner, y_temp_ner = train_test_split(padded_sequences, pos_padded, ner_padded, test_size=0.3, random_state=42)  ## for train session have 70% of the data, while test have 30%\n",
    "X_val, X_test, y_val_pos, y_test_pos, y_val_ner, y_test_ner = train_test_split(X_temp, y_temp_pos, y_temp_ner, test_size=0.5, random_state=42) # for validation contain 15% of the original data, while test the other 15%"
   ]
  },
  {
   "cell_type": "markdown",
   "id": "4159c480-c242-4222-b77e-3cb83e69c8a3",
   "metadata": {},
   "source": [
    "## Neural Network Architecture\n",
    "An embedding layer is used in this neural network to represent input sequences as dense vectors. A dropout layer and a bidirectional LSTM are then used to extract contextual information. It uses two output branches, one for NER and one for POS tagging. Time-distributed dense layers with softmax activation are used in both. The sparse categorical crossentropy loss and Adam optimizer are used in the model's compilation, and accuracy is monitored for both outputs."
   ]
  },
  {
   "cell_type": "code",
   "execution_count": 20,
   "id": "fa3ec3bc-5228-4393-8359-d81fff973ecc",
   "metadata": {},
   "outputs": [
    {
     "name": "stderr",
     "output_type": "stream",
     "text": [
      "C:\\Users\\admin\\anaconda3\\Lib\\site-packages\\keras\\src\\layers\\core\\embedding.py:90: UserWarning: Argument `input_length` is deprecated. Just remove it.\n",
      "  warnings.warn(\n"
     ]
    },
    {
     "data": {
      "text/html": [
       "<pre style=\"white-space:pre;overflow-x:auto;line-height:normal;font-family:Menlo,'DejaVu Sans Mono',consolas,'Courier New',monospace\"><span style=\"font-weight: bold\">Model: \"functional_1\"</span>\n",
       "</pre>\n"
      ],
      "text/plain": [
       "\u001b[1mModel: \"functional_1\"\u001b[0m\n"
      ]
     },
     "metadata": {},
     "output_type": "display_data"
    },
    {
     "data": {
      "text/html": [
       "<pre style=\"white-space:pre;overflow-x:auto;line-height:normal;font-family:Menlo,'DejaVu Sans Mono',consolas,'Courier New',monospace\">┏━━━━━━━━━━━━━━━━━━━━━━━━━━━━━━━┳━━━━━━━━━━━━━━━━━━━━━━━━━━━┳━━━━━━━━━━━━━━━━━┳━━━━━━━━━━━━━━━━━━━━━━━━━━━━┓\n",
       "┃<span style=\"font-weight: bold\"> Layer (type)                  </span>┃<span style=\"font-weight: bold\"> Output Shape              </span>┃<span style=\"font-weight: bold\">         Param # </span>┃<span style=\"font-weight: bold\"> Connected to               </span>┃\n",
       "┡━━━━━━━━━━━━━━━━━━━━━━━━━━━━━━━╇━━━━━━━━━━━━━━━━━━━━━━━━━━━╇━━━━━━━━━━━━━━━━━╇━━━━━━━━━━━━━━━━━━━━━━━━━━━━┩\n",
       "│ input_layer (<span style=\"color: #0087ff; text-decoration-color: #0087ff\">InputLayer</span>)      │ (<span style=\"color: #00d7ff; text-decoration-color: #00d7ff\">None</span>, <span style=\"color: #00af00; text-decoration-color: #00af00\">31</span>)                │               <span style=\"color: #00af00; text-decoration-color: #00af00\">0</span> │ -                          │\n",
       "├───────────────────────────────┼───────────────────────────┼─────────────────┼────────────────────────────┤\n",
       "│ embedding (<span style=\"color: #0087ff; text-decoration-color: #0087ff\">Embedding</span>)         │ (<span style=\"color: #00d7ff; text-decoration-color: #00d7ff\">None</span>, <span style=\"color: #00af00; text-decoration-color: #00af00\">31</span>, <span style=\"color: #00af00; text-decoration-color: #00af00\">128</span>)           │       <span style=\"color: #00af00; text-decoration-color: #00af00\">1,438,592</span> │ input_layer[<span style=\"color: #00af00; text-decoration-color: #00af00\">0</span>][<span style=\"color: #00af00; text-decoration-color: #00af00\">0</span>]          │\n",
       "├───────────────────────────────┼───────────────────────────┼─────────────────┼────────────────────────────┤\n",
       "│ dropout (<span style=\"color: #0087ff; text-decoration-color: #0087ff\">Dropout</span>)             │ (<span style=\"color: #00d7ff; text-decoration-color: #00d7ff\">None</span>, <span style=\"color: #00af00; text-decoration-color: #00af00\">31</span>, <span style=\"color: #00af00; text-decoration-color: #00af00\">128</span>)           │               <span style=\"color: #00af00; text-decoration-color: #00af00\">0</span> │ embedding[<span style=\"color: #00af00; text-decoration-color: #00af00\">0</span>][<span style=\"color: #00af00; text-decoration-color: #00af00\">0</span>]            │\n",
       "├───────────────────────────────┼───────────────────────────┼─────────────────┼────────────────────────────┤\n",
       "│ bidirectional (<span style=\"color: #0087ff; text-decoration-color: #0087ff\">Bidirectional</span>) │ (<span style=\"color: #00d7ff; text-decoration-color: #00d7ff\">None</span>, <span style=\"color: #00af00; text-decoration-color: #00af00\">31</span>, <span style=\"color: #00af00; text-decoration-color: #00af00\">128</span>)           │          <span style=\"color: #00af00; text-decoration-color: #00af00\">98,816</span> │ dropout[<span style=\"color: #00af00; text-decoration-color: #00af00\">0</span>][<span style=\"color: #00af00; text-decoration-color: #00af00\">0</span>]              │\n",
       "├───────────────────────────────┼───────────────────────────┼─────────────────┼────────────────────────────┤\n",
       "│ time_distributed              │ (<span style=\"color: #00d7ff; text-decoration-color: #00d7ff\">None</span>, <span style=\"color: #00af00; text-decoration-color: #00af00\">31</span>, <span style=\"color: #00af00; text-decoration-color: #00af00\">15</span>)            │           <span style=\"color: #00af00; text-decoration-color: #00af00\">1,935</span> │ bidirectional[<span style=\"color: #00af00; text-decoration-color: #00af00\">0</span>][<span style=\"color: #00af00; text-decoration-color: #00af00\">0</span>]        │\n",
       "│ (<span style=\"color: #0087ff; text-decoration-color: #0087ff\">TimeDistributed</span>)             │                           │                 │                            │\n",
       "├───────────────────────────────┼───────────────────────────┼─────────────────┼────────────────────────────┤\n",
       "│ time_distributed_1            │ (<span style=\"color: #00d7ff; text-decoration-color: #00d7ff\">None</span>, <span style=\"color: #00af00; text-decoration-color: #00af00\">31</span>, <span style=\"color: #00af00; text-decoration-color: #00af00\">21</span>)            │           <span style=\"color: #00af00; text-decoration-color: #00af00\">2,709</span> │ bidirectional[<span style=\"color: #00af00; text-decoration-color: #00af00\">0</span>][<span style=\"color: #00af00; text-decoration-color: #00af00\">0</span>]        │\n",
       "│ (<span style=\"color: #0087ff; text-decoration-color: #0087ff\">TimeDistributed</span>)             │                           │                 │                            │\n",
       "└───────────────────────────────┴───────────────────────────┴─────────────────┴────────────────────────────┘\n",
       "</pre>\n"
      ],
      "text/plain": [
       "┏━━━━━━━━━━━━━━━━━━━━━━━━━━━━━━━┳━━━━━━━━━━━━━━━━━━━━━━━━━━━┳━━━━━━━━━━━━━━━━━┳━━━━━━━━━━━━━━━━━━━━━━━━━━━━┓\n",
       "┃\u001b[1m \u001b[0m\u001b[1mLayer (type)                 \u001b[0m\u001b[1m \u001b[0m┃\u001b[1m \u001b[0m\u001b[1mOutput Shape             \u001b[0m\u001b[1m \u001b[0m┃\u001b[1m \u001b[0m\u001b[1m        Param #\u001b[0m\u001b[1m \u001b[0m┃\u001b[1m \u001b[0m\u001b[1mConnected to              \u001b[0m\u001b[1m \u001b[0m┃\n",
       "┡━━━━━━━━━━━━━━━━━━━━━━━━━━━━━━━╇━━━━━━━━━━━━━━━━━━━━━━━━━━━╇━━━━━━━━━━━━━━━━━╇━━━━━━━━━━━━━━━━━━━━━━━━━━━━┩\n",
       "│ input_layer (\u001b[38;5;33mInputLayer\u001b[0m)      │ (\u001b[38;5;45mNone\u001b[0m, \u001b[38;5;34m31\u001b[0m)                │               \u001b[38;5;34m0\u001b[0m │ -                          │\n",
       "├───────────────────────────────┼───────────────────────────┼─────────────────┼────────────────────────────┤\n",
       "│ embedding (\u001b[38;5;33mEmbedding\u001b[0m)         │ (\u001b[38;5;45mNone\u001b[0m, \u001b[38;5;34m31\u001b[0m, \u001b[38;5;34m128\u001b[0m)           │       \u001b[38;5;34m1,438,592\u001b[0m │ input_layer[\u001b[38;5;34m0\u001b[0m][\u001b[38;5;34m0\u001b[0m]          │\n",
       "├───────────────────────────────┼───────────────────────────┼─────────────────┼────────────────────────────┤\n",
       "│ dropout (\u001b[38;5;33mDropout\u001b[0m)             │ (\u001b[38;5;45mNone\u001b[0m, \u001b[38;5;34m31\u001b[0m, \u001b[38;5;34m128\u001b[0m)           │               \u001b[38;5;34m0\u001b[0m │ embedding[\u001b[38;5;34m0\u001b[0m][\u001b[38;5;34m0\u001b[0m]            │\n",
       "├───────────────────────────────┼───────────────────────────┼─────────────────┼────────────────────────────┤\n",
       "│ bidirectional (\u001b[38;5;33mBidirectional\u001b[0m) │ (\u001b[38;5;45mNone\u001b[0m, \u001b[38;5;34m31\u001b[0m, \u001b[38;5;34m128\u001b[0m)           │          \u001b[38;5;34m98,816\u001b[0m │ dropout[\u001b[38;5;34m0\u001b[0m][\u001b[38;5;34m0\u001b[0m]              │\n",
       "├───────────────────────────────┼───────────────────────────┼─────────────────┼────────────────────────────┤\n",
       "│ time_distributed              │ (\u001b[38;5;45mNone\u001b[0m, \u001b[38;5;34m31\u001b[0m, \u001b[38;5;34m15\u001b[0m)            │           \u001b[38;5;34m1,935\u001b[0m │ bidirectional[\u001b[38;5;34m0\u001b[0m][\u001b[38;5;34m0\u001b[0m]        │\n",
       "│ (\u001b[38;5;33mTimeDistributed\u001b[0m)             │                           │                 │                            │\n",
       "├───────────────────────────────┼───────────────────────────┼─────────────────┼────────────────────────────┤\n",
       "│ time_distributed_1            │ (\u001b[38;5;45mNone\u001b[0m, \u001b[38;5;34m31\u001b[0m, \u001b[38;5;34m21\u001b[0m)            │           \u001b[38;5;34m2,709\u001b[0m │ bidirectional[\u001b[38;5;34m0\u001b[0m][\u001b[38;5;34m0\u001b[0m]        │\n",
       "│ (\u001b[38;5;33mTimeDistributed\u001b[0m)             │                           │                 │                            │\n",
       "└───────────────────────────────┴───────────────────────────┴─────────────────┴────────────────────────────┘\n"
      ]
     },
     "metadata": {},
     "output_type": "display_data"
    },
    {
     "data": {
      "text/html": [
       "<pre style=\"white-space:pre;overflow-x:auto;line-height:normal;font-family:Menlo,'DejaVu Sans Mono',consolas,'Courier New',monospace\"><span style=\"font-weight: bold\"> Total params: </span><span style=\"color: #00af00; text-decoration-color: #00af00\">1,542,052</span> (5.88 MB)\n",
       "</pre>\n"
      ],
      "text/plain": [
       "\u001b[1m Total params: \u001b[0m\u001b[38;5;34m1,542,052\u001b[0m (5.88 MB)\n"
      ]
     },
     "metadata": {},
     "output_type": "display_data"
    },
    {
     "data": {
      "text/html": [
       "<pre style=\"white-space:pre;overflow-x:auto;line-height:normal;font-family:Menlo,'DejaVu Sans Mono',consolas,'Courier New',monospace\"><span style=\"font-weight: bold\"> Trainable params: </span><span style=\"color: #00af00; text-decoration-color: #00af00\">1,542,052</span> (5.88 MB)\n",
       "</pre>\n"
      ],
      "text/plain": [
       "\u001b[1m Trainable params: \u001b[0m\u001b[38;5;34m1,542,052\u001b[0m (5.88 MB)\n"
      ]
     },
     "metadata": {},
     "output_type": "display_data"
    },
    {
     "data": {
      "text/html": [
       "<pre style=\"white-space:pre;overflow-x:auto;line-height:normal;font-family:Menlo,'DejaVu Sans Mono',consolas,'Courier New',monospace\"><span style=\"font-weight: bold\"> Non-trainable params: </span><span style=\"color: #00af00; text-decoration-color: #00af00\">0</span> (0.00 B)\n",
       "</pre>\n"
      ],
      "text/plain": [
       "\u001b[1m Non-trainable params: \u001b[0m\u001b[38;5;34m0\u001b[0m (0.00 B)\n"
      ]
     },
     "metadata": {},
     "output_type": "display_data"
    }
   ],
   "source": [
    "input = Input(shape=(max_len,)) # Define the input layer with shape equal to the maximum sequence length\n",
    "model = Embedding(input_dim=len(word_index) + 1, output_dim=128, input_length=max_len)(input)\n",
    "model = Dropout(0.3)(model) # # Dropout layer to prevent overfitting by randomly setting a fraction (0.3) \n",
    "model = Bidirectional(LSTM(units=64, return_sequences=True))(model) # # Bidirectional LSTM layer units=64 means 64 LSTM units; return_sequences=True allows the LSTM to output the full sequence\n",
    "pos_output = TimeDistributed(Dense(len(pos_tags), activation=\"softmax\"))(model) # POS tagging output\n",
    "ner_output = TimeDistributed(Dense(len(ner_tags), activation=\"softmax\"))(model) # NER output\n",
    "model = Model(inputs=input, outputs=[pos_output, ner_output]) # Combine outputs into a single model\n",
    "model.compile(optimizer=\"adam\",loss=\"sparse_categorical_crossentropy\",metrics=[\"accuracy\", \"accuracy\"])  # Two accuracies, one for each output)\n",
    "model.summary()"
   ]
  },
  {
   "cell_type": "markdown",
   "id": "1c708de9-1712-4dcd-af68-6dedebb71e2d",
   "metadata": {},
   "source": [
    "### Train the model on the preprocessed dataset."
   ]
  },
  {
   "cell_type": "code",
   "execution_count": 21,
   "id": "0f5ae144-f71e-498f-af7d-54fa9ca1cac0",
   "metadata": {},
   "outputs": [
    {
     "name": "stdout",
     "output_type": "stream",
     "text": [
      "Epoch 1/10\n",
      "\u001b[1m992/992\u001b[0m \u001b[32m━━━━━━━━━━━━━━━━━━━━\u001b[0m\u001b[37m\u001b[0m \u001b[1m59s\u001b[0m 45ms/step - loss: 0.3219 - time_distributed_1_accuracy: 0.9779 - time_distributed_accuracy: 0.9728 - val_loss: 0.0830 - val_time_distributed_1_accuracy: 0.9896 - val_time_distributed_accuracy: 0.9857\n",
      "Epoch 2/10\n",
      "\u001b[1m992/992\u001b[0m \u001b[32m━━━━━━━━━━━━━━━━━━━━\u001b[0m\u001b[37m\u001b[0m \u001b[1m38s\u001b[0m 38ms/step - loss: 0.0697 - time_distributed_1_accuracy: 0.9907 - time_distributed_accuracy: 0.9894 - val_loss: 0.0628 - val_time_distributed_1_accuracy: 0.9917 - val_time_distributed_accuracy: 0.9910\n",
      "Epoch 3/10\n",
      "\u001b[1m992/992\u001b[0m \u001b[32m━━━━━━━━━━━━━━━━━━━━\u001b[0m\u001b[37m\u001b[0m \u001b[1m40s\u001b[0m 41ms/step - loss: 0.0475 - time_distributed_1_accuracy: 0.9930 - time_distributed_accuracy: 0.9941 - val_loss: 0.0569 - val_time_distributed_1_accuracy: 0.9927 - val_time_distributed_accuracy: 0.9911\n",
      "Epoch 4/10\n",
      "\u001b[1m992/992\u001b[0m \u001b[32m━━━━━━━━━━━━━━━━━━━━\u001b[0m\u001b[37m\u001b[0m \u001b[1m42s\u001b[0m 42ms/step - loss: 0.0371 - time_distributed_1_accuracy: 0.9946 - time_distributed_accuracy: 0.9949 - val_loss: 0.0547 - val_time_distributed_1_accuracy: 0.9934 - val_time_distributed_accuracy: 0.9913\n",
      "Epoch 5/10\n",
      "\u001b[1m992/992\u001b[0m \u001b[32m━━━━━━━━━━━━━━━━━━━━\u001b[0m\u001b[37m\u001b[0m \u001b[1m43s\u001b[0m 43ms/step - loss: 0.0311 - time_distributed_1_accuracy: 0.9957 - time_distributed_accuracy: 0.9952 - val_loss: 0.0542 - val_time_distributed_1_accuracy: 0.9935 - val_time_distributed_accuracy: 0.9909\n",
      "Epoch 6/10\n",
      "\u001b[1m992/992\u001b[0m \u001b[32m━━━━━━━━━━━━━━━━━━━━\u001b[0m\u001b[37m\u001b[0m \u001b[1m42s\u001b[0m 43ms/step - loss: 0.0280 - time_distributed_1_accuracy: 0.9961 - time_distributed_accuracy: 0.9952 - val_loss: 0.0541 - val_time_distributed_1_accuracy: 0.9936 - val_time_distributed_accuracy: 0.9912\n",
      "Epoch 7/10\n",
      "\u001b[1m992/992\u001b[0m \u001b[32m━━━━━━━━━━━━━━━━━━━━\u001b[0m\u001b[37m\u001b[0m \u001b[1m43s\u001b[0m 43ms/step - loss: 0.0262 - time_distributed_1_accuracy: 0.9962 - time_distributed_accuracy: 0.9952 - val_loss: 0.0537 - val_time_distributed_1_accuracy: 0.9938 - val_time_distributed_accuracy: 0.9913\n",
      "Epoch 8/10\n",
      "\u001b[1m992/992\u001b[0m \u001b[32m━━━━━━━━━━━━━━━━━━━━\u001b[0m\u001b[37m\u001b[0m \u001b[1m42s\u001b[0m 42ms/step - loss: 0.0238 - time_distributed_1_accuracy: 0.9964 - time_distributed_accuracy: 0.9954 - val_loss: 0.0539 - val_time_distributed_1_accuracy: 0.9937 - val_time_distributed_accuracy: 0.9909\n",
      "Epoch 9/10\n",
      "\u001b[1m992/992\u001b[0m \u001b[32m━━━━━━━━━━━━━━━━━━━━\u001b[0m\u001b[37m\u001b[0m \u001b[1m41s\u001b[0m 42ms/step - loss: 0.0228 - time_distributed_1_accuracy: 0.9965 - time_distributed_accuracy: 0.9955 - val_loss: 0.0546 - val_time_distributed_1_accuracy: 0.9936 - val_time_distributed_accuracy: 0.9908\n",
      "Epoch 10/10\n",
      "\u001b[1m992/992\u001b[0m \u001b[32m━━━━━━━━━━━━━━━━━━━━\u001b[0m\u001b[37m\u001b[0m \u001b[1m40s\u001b[0m 40ms/step - loss: 0.0222 - time_distributed_1_accuracy: 0.9965 - time_distributed_accuracy: 0.9955 - val_loss: 0.0554 - val_time_distributed_1_accuracy: 0.9936 - val_time_distributed_accuracy: 0.9909\n"
     ]
    }
   ],
   "source": [
    "history = model.fit(X_train, [y_train_pos, y_train_ner], validation_data=(X_val, [y_val_pos, y_val_ner]), epochs=10, batch_size=32)"
   ]
  },
  {
   "cell_type": "markdown",
   "id": "9892b27b-bb85-4008-9f06-9deb7006fc57",
   "metadata": {},
   "source": [
    "# Model Evaluation\n",
    "### Report performance metrics such as accuracy, precision, recall, and F1 score are given below"
   ]
  },
  {
   "cell_type": "code",
   "execution_count": 23,
   "id": "478000e9-b265-419b-9bba-4ee6e43d912e",
   "metadata": {},
   "outputs": [
    {
     "name": "stdout",
     "output_type": "stream",
     "text": [
      "\u001b[1m213/213\u001b[0m \u001b[32m━━━━━━━━━━━━━━━━━━━━\u001b[0m\u001b[37m\u001b[0m \u001b[1m3s\u001b[0m 13ms/step - loss: 0.0544 - time_distributed_1_accuracy: 0.9937 - time_distributed_accuracy: 0.9908\n",
      "Test Loss: 0.05431773141026497\n",
      "Test POS Accuracy: 0.9936284422874451\n",
      "Test NER Accuracy: 0.9909752607345581\n",
      "\u001b[1m213/213\u001b[0m \u001b[32m━━━━━━━━━━━━━━━━━━━━\u001b[0m\u001b[37m\u001b[0m \u001b[1m3s\u001b[0m 13ms/step\n",
      "POS Tagging Classification Report:\n"
     ]
    },
    {
     "name": "stderr",
     "output_type": "stream",
     "text": [
      "C:\\Users\\admin\\anaconda3\\Lib\\site-packages\\sklearn\\metrics\\_classification.py:1344: UndefinedMetricWarning: Precision and F-score are ill-defined and being set to 0.0 in labels with no predicted samples. Use `zero_division` parameter to control this behavior.\n",
      "  _warn_prf(average, modifier, msg_start, len(result))\n",
      "C:\\Users\\admin\\anaconda3\\Lib\\site-packages\\sklearn\\metrics\\_classification.py:1344: UndefinedMetricWarning: Precision and F-score are ill-defined and being set to 0.0 in labels with no predicted samples. Use `zero_division` parameter to control this behavior.\n",
      "  _warn_prf(average, modifier, msg_start, len(result))\n",
      "C:\\Users\\admin\\anaconda3\\Lib\\site-packages\\sklearn\\metrics\\_classification.py:1344: UndefinedMetricWarning: Precision and F-score are ill-defined and being set to 0.0 in labels with no predicted samples. Use `zero_division` parameter to control this behavior.\n",
      "  _warn_prf(average, modifier, msg_start, len(result))\n"
     ]
    },
    {
     "name": "stdout",
     "output_type": "stream",
     "text": [
      "              precision    recall  f1-score   support\n",
      "\n",
      "         ADJ       0.79      0.61      0.69       706\n",
      "         ADV       0.81      0.59      0.68       228\n",
      "        CONJ       0.87      0.98      0.92       148\n",
      "         DET       0.93      0.86      0.89       111\n",
      "        INTJ       0.00      0.00      0.00         1\n",
      "         NNC       0.86      0.68      0.76      2570\n",
      "         NNP       1.00      1.00      1.00    205129\n",
      "         OTH       0.00      0.00      0.00         5\n",
      "        PART       1.00      0.13      0.24        15\n",
      "          PP       0.66      0.94      0.77       284\n",
      "         PRO       0.85      0.85      0.85       206\n",
      "       PUNCT       0.72      0.33      0.46       141\n",
      "          QF       0.78      0.76      0.77       278\n",
      "          VF       0.91      0.78      0.84       685\n",
      "         VNF       0.59      0.60      0.60       262\n",
      "\n",
      "    accuracy                           0.99    210769\n",
      "   macro avg       0.72      0.61      0.63    210769\n",
      "weighted avg       0.99      0.99      0.99    210769\n",
      "\n",
      "NER Tagging Classification Report:\n"
     ]
    },
    {
     "name": "stderr",
     "output_type": "stream",
     "text": [
      "C:\\Users\\admin\\anaconda3\\Lib\\site-packages\\sklearn\\metrics\\_classification.py:1344: UndefinedMetricWarning: Precision and F-score are ill-defined and being set to 0.0 in labels with no predicted samples. Use `zero_division` parameter to control this behavior.\n",
      "  _warn_prf(average, modifier, msg_start, len(result))\n",
      "C:\\Users\\admin\\anaconda3\\Lib\\site-packages\\sklearn\\metrics\\_classification.py:1344: UndefinedMetricWarning: Precision and F-score are ill-defined and being set to 0.0 in labels with no predicted samples. Use `zero_division` parameter to control this behavior.\n",
      "  _warn_prf(average, modifier, msg_start, len(result))\n"
     ]
    },
    {
     "name": "stdout",
     "output_type": "stream",
     "text": [
      "              precision    recall  f1-score   support\n",
      "\n",
      "       B-D&T       1.00      1.00      1.00    204121\n",
      "     B-EVENT       0.65      0.49      0.56        81\n",
      "       B-GPE       0.65      0.52      0.58       144\n",
      "       B-LOC       0.39      0.16      0.23        57\n",
      "      B-MISC       0.64      0.31      0.42        29\n",
      "       B-NUM       0.72      0.72      0.72       176\n",
      "       B-ORG       0.60      0.38      0.46       239\n",
      "       B-OTH       0.85      0.96      0.90      4679\n",
      "       B-PER       0.76      0.47      0.58       529\n",
      "       B-T&T       0.40      0.12      0.18        17\n",
      "      B-UNIT       0.52      0.79      0.62        42\n",
      "       I-D&T       0.66      0.34      0.45       114\n",
      "     I-EVENT       0.59      0.33      0.42        40\n",
      "       I-GPE       0.00      0.00      0.00         7\n",
      "       I-LOC       0.29      0.15      0.20        33\n",
      "      I-MISC       0.25      0.20      0.22         5\n",
      "       I-NUM       0.57      0.67      0.61        39\n",
      "       I-ORG       0.58      0.39      0.47       180\n",
      "       I-PER       0.69      0.37      0.48       231\n",
      "       I-T&T       0.00      0.00      0.00         6\n",
      "\n",
      "    accuracy                           0.99    210769\n",
      "   macro avg       0.54      0.42      0.46    210769\n",
      "weighted avg       0.99      0.99      0.99    210769\n",
      "\n"
     ]
    },
    {
     "name": "stderr",
     "output_type": "stream",
     "text": [
      "C:\\Users\\admin\\anaconda3\\Lib\\site-packages\\sklearn\\metrics\\_classification.py:1344: UndefinedMetricWarning: Precision and F-score are ill-defined and being set to 0.0 in labels with no predicted samples. Use `zero_division` parameter to control this behavior.\n",
      "  _warn_prf(average, modifier, msg_start, len(result))\n"
     ]
    }
   ],
   "source": [
    "loss, pos_accuracy, ner_accuracy = model.evaluate(X_test, [y_test_pos, y_test_ner])\n",
    "print(f\"Test Loss: {loss}\")\n",
    "print(f\"Test POS Accuracy: {pos_accuracy}\")\n",
    "print(f\"Test NER Accuracy: {ner_accuracy}\")\n",
    "pos_pred, ner_pred = model.predict(X_test)\n",
    "pos_pred_indices = pos_pred.argmax(axis=-1)\n",
    "ner_pred_indices = ner_pred.argmax(axis=-1)\n",
    "index_to_pos_tag = {idx: tag for tag, idx in pos_tag_to_index.items()}\n",
    "index_to_ner_tag = {idx: tag for tag, idx in ner_tag_to_index.items()}\n",
    "pos_pred_tags = [[index_to_pos_tag.get(idx, 'O') for idx in sentence] for sentence in pos_pred_indices]\n",
    "ner_pred_tags = [[index_to_ner_tag.get(idx, 'O') for idx in sentence] for sentence in ner_pred_indices]\n",
    "pos_true_tags = [[index_to_pos_tag.get(idx, 'O') for idx in sentence] for sentence in y_test_pos]\n",
    "ner_true_tags = [[index_to_ner_tag.get(idx, 'O') for idx in sentence] for sentence in y_test_ner]\n",
    "pos_pred_flat = [tag for sublist in pos_pred_tags for tag in sublist]\n",
    "ner_pred_flat = [tag for sublist in ner_pred_tags for tag in sublist]\n",
    "pos_true_flat = [tag for sublist in pos_true_tags for tag in sublist]\n",
    "ner_true_flat = [tag for sublist in ner_true_tags for tag in sublist]\n",
    "print(\"POS Tagging Classification Report:\")\n",
    "print(classification_report(pos_true_flat, pos_pred_flat))\n",
    "print(\"NER Tagging Classification Report:\")\n",
    "print(classification_report(ner_true_flat, ner_pred_flat))"
   ]
  },
  {
   "cell_type": "markdown",
   "id": "6aa55edb-8693-4bee-a566-71b7b7991334",
   "metadata": {},
   "source": [
    "# # Save the model"
   ]
  },
  {
   "cell_type": "code",
   "execution_count": 24,
   "id": "b86554f2-bc79-4286-8dd0-afee281b3746",
   "metadata": {},
   "outputs": [
    {
     "name": "stderr",
     "output_type": "stream",
     "text": [
      "WARNING:absl:You are saving your model as an HDF5 file via `model.save()` or `keras.saving.save_model(model)`. This file format is considered legacy. We recommend using instead the native Keras format, e.g. `model.save('my_model.keras')` or `keras.saving.save_model(model, 'my_model.keras')`. \n"
     ]
    }
   ],
   "source": [
    "model.save('pos_ner_model.h5')"
   ]
  },
  {
   "cell_type": "code",
   "execution_count": null,
   "id": "7179526a-b343-4a4a-aa5c-1595533805dd",
   "metadata": {},
   "outputs": [],
   "source": []
  }
 ],
 "metadata": {
  "kernelspec": {
   "display_name": "Python 3 (ipykernel)",
   "language": "python",
   "name": "python3"
  },
  "language_info": {
   "codemirror_mode": {
    "name": "ipython",
    "version": 3
   },
   "file_extension": ".py",
   "mimetype": "text/x-python",
   "name": "python",
   "nbconvert_exporter": "python",
   "pygments_lexer": "ipython3",
   "version": "3.11.7"
  }
 },
 "nbformat": 4,
 "nbformat_minor": 5
}
